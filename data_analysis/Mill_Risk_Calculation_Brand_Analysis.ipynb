{
 "cells": [
  {
   "cell_type": "markdown",
   "metadata": {},
   "source": [
    "# Calculate Past, Current, and Future Mill Risk Scores using Tree Cover Loss Data and Aggregate Brand Risk\n",
    "### All risk calculations are replicated in the batch layer which produces the data that serves the Tracker application.\n",
    "### Risk calculation method is modeled after the PALM risk tool developed by the World Resources Institute (detailed [here](https://files.wri.org/s3fs-public/Palm_Risk_Assessment_Methodology_Prioritizing_Areas_Landscapes_And_Mills.pdf))."
   ]
  },
  {
   "cell_type": "code",
   "execution_count": 1,
   "metadata": {},
   "outputs": [],
   "source": [
    "# Imports\n",
    "import pandas as pd\n",
    "import numpy as np\n",
    "from matplotlib import pyplot as plt\n",
    "import geopandas as gpd\n",
    "import os"
   ]
  },
  {
   "cell_type": "code",
   "execution_count": 2,
   "metadata": {},
   "outputs": [],
   "source": [
    "# Parameters\n",
    "DATA_DIR = \"../data\"\n",
    "MILL_LOSS_FNAME = 'uml_loss.csv'\n",
    "BRAND_MILL_MATCHES_FNAME = 'brand_mills.csv'\n",
    "BRAND_INFO_FNAME = 'brand_info.csv'"
   ]
  },
  {
   "cell_type": "code",
   "execution_count": 3,
   "metadata": {},
   "outputs": [
    {
     "data": {
      "text/html": [
       "<div>\n",
       "<style scoped>\n",
       "    .dataframe tbody tr th:only-of-type {\n",
       "        vertical-align: middle;\n",
       "    }\n",
       "\n",
       "    .dataframe tbody tr th {\n",
       "        vertical-align: top;\n",
       "    }\n",
       "\n",
       "    .dataframe thead th {\n",
       "        text-align: right;\n",
       "    }\n",
       "</style>\n",
       "<table border=\"1\" class=\"dataframe\">\n",
       "  <thead>\n",
       "    <tr style=\"text-align: right;\">\n",
       "      <th></th>\n",
       "      <th>umlid</th>\n",
       "      <th>treeloss_sum</th>\n",
       "      <th>land_area</th>\n",
       "      <th>forest_area</th>\n",
       "      <th>treeloss_2001</th>\n",
       "      <th>treeloss_2002</th>\n",
       "      <th>treeloss_2003</th>\n",
       "      <th>treeloss_2004</th>\n",
       "      <th>treeloss_2005</th>\n",
       "      <th>treeloss_2006</th>\n",
       "      <th>...</th>\n",
       "      <th>treeloss_2013</th>\n",
       "      <th>treeloss_2014</th>\n",
       "      <th>treeloss_2015</th>\n",
       "      <th>treeloss_2016</th>\n",
       "      <th>treeloss_2017</th>\n",
       "      <th>treeloss_2018</th>\n",
       "      <th>treeloss_2019</th>\n",
       "      <th>treeloss_sum_proportion_of_land</th>\n",
       "      <th>treeloss_sum_proportion_of_forest</th>\n",
       "      <th>remaining_proportion_of_forest</th>\n",
       "    </tr>\n",
       "  </thead>\n",
       "  <tbody>\n",
       "    <tr>\n",
       "      <th>0</th>\n",
       "      <td>po1000000021</td>\n",
       "      <td>1906.499294</td>\n",
       "      <td>7161.378706</td>\n",
       "      <td>5110.225765</td>\n",
       "      <td>247.503529</td>\n",
       "      <td>72.550235</td>\n",
       "      <td>0.810000</td>\n",
       "      <td>27.959294</td>\n",
       "      <td>56.750824</td>\n",
       "      <td>117.159176</td>\n",
       "      <td>...</td>\n",
       "      <td>6.826235</td>\n",
       "      <td>80.903294</td>\n",
       "      <td>25.444235</td>\n",
       "      <td>251.816118</td>\n",
       "      <td>101.639294</td>\n",
       "      <td>358.871294</td>\n",
       "      <td>358.554706</td>\n",
       "      <td>0.266220</td>\n",
       "      <td>0.373075</td>\n",
       "      <td>0.626925</td>\n",
       "    </tr>\n",
       "    <tr>\n",
       "      <th>1</th>\n",
       "      <td>po1000000054</td>\n",
       "      <td>15316.790118</td>\n",
       "      <td>26077.698706</td>\n",
       "      <td>21678.912000</td>\n",
       "      <td>1488.427765</td>\n",
       "      <td>339.160235</td>\n",
       "      <td>53.039647</td>\n",
       "      <td>2621.975647</td>\n",
       "      <td>413.567294</td>\n",
       "      <td>33.870706</td>\n",
       "      <td>...</td>\n",
       "      <td>993.768000</td>\n",
       "      <td>1140.495882</td>\n",
       "      <td>177.437294</td>\n",
       "      <td>1425.052941</td>\n",
       "      <td>256.883647</td>\n",
       "      <td>463.839529</td>\n",
       "      <td>1809.525176</td>\n",
       "      <td>0.587352</td>\n",
       "      <td>0.706529</td>\n",
       "      <td>0.293471</td>\n",
       "    </tr>\n",
       "    <tr>\n",
       "      <th>2</th>\n",
       "      <td>po1000000058</td>\n",
       "      <td>4651.115294</td>\n",
       "      <td>13248.475765</td>\n",
       "      <td>9117.221294</td>\n",
       "      <td>44.759294</td>\n",
       "      <td>56.023765</td>\n",
       "      <td>41.248588</td>\n",
       "      <td>174.501176</td>\n",
       "      <td>101.384471</td>\n",
       "      <td>193.381059</td>\n",
       "      <td>...</td>\n",
       "      <td>81.580941</td>\n",
       "      <td>745.530706</td>\n",
       "      <td>534.654353</td>\n",
       "      <td>336.262235</td>\n",
       "      <td>259.358471</td>\n",
       "      <td>504.688941</td>\n",
       "      <td>126.654706</td>\n",
       "      <td>0.351068</td>\n",
       "      <td>0.510146</td>\n",
       "      <td>0.489854</td>\n",
       "    </tr>\n",
       "    <tr>\n",
       "      <th>3</th>\n",
       "      <td>po1000000092</td>\n",
       "      <td>9652.010118</td>\n",
       "      <td>26006.595882</td>\n",
       "      <td>18086.659765</td>\n",
       "      <td>576.822706</td>\n",
       "      <td>768.397412</td>\n",
       "      <td>113.075647</td>\n",
       "      <td>542.520353</td>\n",
       "      <td>252.378706</td>\n",
       "      <td>346.090588</td>\n",
       "      <td>...</td>\n",
       "      <td>551.062941</td>\n",
       "      <td>719.165647</td>\n",
       "      <td>403.048588</td>\n",
       "      <td>362.144824</td>\n",
       "      <td>796.576235</td>\n",
       "      <td>770.922706</td>\n",
       "      <td>652.863882</td>\n",
       "      <td>0.371137</td>\n",
       "      <td>0.533654</td>\n",
       "      <td>0.466346</td>\n",
       "    </tr>\n",
       "    <tr>\n",
       "      <th>4</th>\n",
       "      <td>po1000000095</td>\n",
       "      <td>2360.988706</td>\n",
       "      <td>5650.993765</td>\n",
       "      <td>3973.180588</td>\n",
       "      <td>525.207529</td>\n",
       "      <td>13.588235</td>\n",
       "      <td>70.791529</td>\n",
       "      <td>280.605176</td>\n",
       "      <td>61.301294</td>\n",
       "      <td>64.769647</td>\n",
       "      <td>...</td>\n",
       "      <td>112.750588</td>\n",
       "      <td>41.353765</td>\n",
       "      <td>148.994118</td>\n",
       "      <td>342.013412</td>\n",
       "      <td>67.116353</td>\n",
       "      <td>58.680000</td>\n",
       "      <td>121.770000</td>\n",
       "      <td>0.417801</td>\n",
       "      <td>0.594231</td>\n",
       "      <td>0.405769</td>\n",
       "    </tr>\n",
       "  </tbody>\n",
       "</table>\n",
       "<p>5 rows × 26 columns</p>\n",
       "</div>"
      ],
      "text/plain": [
       "          umlid  treeloss_sum     land_area   forest_area  treeloss_2001  \\\n",
       "0  po1000000021   1906.499294   7161.378706   5110.225765     247.503529   \n",
       "1  po1000000054  15316.790118  26077.698706  21678.912000    1488.427765   \n",
       "2  po1000000058   4651.115294  13248.475765   9117.221294      44.759294   \n",
       "3  po1000000092   9652.010118  26006.595882  18086.659765     576.822706   \n",
       "4  po1000000095   2360.988706   5650.993765   3973.180588     525.207529   \n",
       "\n",
       "   treeloss_2002  treeloss_2003  treeloss_2004  treeloss_2005  treeloss_2006  \\\n",
       "0      72.550235       0.810000      27.959294      56.750824     117.159176   \n",
       "1     339.160235      53.039647    2621.975647     413.567294      33.870706   \n",
       "2      56.023765      41.248588     174.501176     101.384471     193.381059   \n",
       "3     768.397412     113.075647     542.520353     252.378706     346.090588   \n",
       "4      13.588235      70.791529     280.605176      61.301294      64.769647   \n",
       "\n",
       "   ...  treeloss_2013  treeloss_2014  treeloss_2015  treeloss_2016  \\\n",
       "0  ...       6.826235      80.903294      25.444235     251.816118   \n",
       "1  ...     993.768000    1140.495882     177.437294    1425.052941   \n",
       "2  ...      81.580941     745.530706     534.654353     336.262235   \n",
       "3  ...     551.062941     719.165647     403.048588     362.144824   \n",
       "4  ...     112.750588      41.353765     148.994118     342.013412   \n",
       "\n",
       "   treeloss_2017  treeloss_2018  treeloss_2019  \\\n",
       "0     101.639294     358.871294     358.554706   \n",
       "1     256.883647     463.839529    1809.525176   \n",
       "2     259.358471     504.688941     126.654706   \n",
       "3     796.576235     770.922706     652.863882   \n",
       "4      67.116353      58.680000     121.770000   \n",
       "\n",
       "   treeloss_sum_proportion_of_land  treeloss_sum_proportion_of_forest  \\\n",
       "0                         0.266220                           0.373075   \n",
       "1                         0.587352                           0.706529   \n",
       "2                         0.351068                           0.510146   \n",
       "3                         0.371137                           0.533654   \n",
       "4                         0.417801                           0.594231   \n",
       "\n",
       "   remaining_proportion_of_forest  \n",
       "0                        0.626925  \n",
       "1                        0.293471  \n",
       "2                        0.489854  \n",
       "3                        0.466346  \n",
       "4                        0.405769  \n",
       "\n",
       "[5 rows x 26 columns]"
      ]
     },
     "execution_count": 3,
     "metadata": {},
     "output_type": "execute_result"
    }
   ],
   "source": [
    "# Bring in Mills Tree Cover Loss data.\n",
    "loss_file_path = os.path.join(DATA_DIR, MILL_LOSS_FNAME)\n",
    "df = pd.read_csv (loss_file_path)\n",
    "df['umlid'] = df['umlid'].str.lower()\n",
    "df.head()"
   ]
  },
  {
   "cell_type": "markdown",
   "metadata": {},
   "source": [
    "#### Risk score method\n",
    "1. Choose a metric (ex: cumulative past tree loss)\n",
    "2. Convert the metric to a z-score (relative to mean and standard deviation)\n",
    "3. Convert the z-score to a 1-5 risk score.\n",
    "- risk score 1: z < -1\n",
    "- risk score 2: -1 <= z < -0.5\n",
    "- risk score 3: -0.5 <= z <= 0.5\n",
    "- risk score 4: 0.5 < z <= 1\n",
    "- risk score 5: z > 1"
   ]
  },
  {
   "cell_type": "code",
   "execution_count": 4,
   "metadata": {},
   "outputs": [],
   "source": [
    "def get_z(df, col):\n",
    "    '''\n",
    "    This function calculates the z-score from a specified column of a dataset.\n",
    "    '''\n",
    "    mu = df[col].mean()\n",
    "    sd = df[col].std()\n",
    "    return (df[col] - mu)/sd"
   ]
  },
  {
   "cell_type": "code",
   "execution_count": 5,
   "metadata": {},
   "outputs": [],
   "source": [
    "def get_risk_from_z(df, z_col):\n",
    "    rv = 5*(df[z_col] > 1) + \\\n",
    "          4*(df[z_col].between(0.5, 1)) + \\\n",
    "          3*(df[z_col].between(-0.5, 0.5)) + \\\n",
    "          2*(df[z_col].between(-1, -0.5)) + \\\n",
    "          1*(df[z_col] < -1)\n",
    "\n",
    "    return rv"
   ]
  },
  {
   "cell_type": "markdown",
   "metadata": {},
   "source": [
    "### Past Risk Calculation\n",
    "#### The metric for past risk is cumulative treeloss from 2001-2019 as a proportion of forest."
   ]
  },
  {
   "cell_type": "code",
   "execution_count": 6,
   "metadata": {},
   "outputs": [
    {
     "data": {
      "text/plain": [
       "Text(0, 0.5, 'mill count')"
      ]
     },
     "execution_count": 6,
     "metadata": {},
     "output_type": "execute_result"
    },
    {
     "data": {
      "image/png": "[encoded data removed]",
      "text/plain": [
       "<Figure size 432x288 with 1 Axes>"
      ]
     },
     "metadata": {
      "needs_background": "light"
     },
     "output_type": "display_data"
    }
   ],
   "source": [
    "# Look at the distribution of the past risk metric.\n",
    "df.hist('treeloss_sum_proportion_of_forest', bins=30)\n",
    "plt.xlabel('treeloss_sum_proportion_of_forest')\n",
    "plt.ylabel('mill count')"
   ]
  },
  {
   "cell_type": "code",
   "execution_count": 7,
   "metadata": {},
   "outputs": [],
   "source": [
    "# Create a new column that is the z-score for the sqrt tree loss proportion.\n",
    "df['past_risk_z'] = get_z(df, 'treeloss_sum_proportion_of_forest')"
   ]
  },
  {
   "cell_type": "code",
   "execution_count": 8,
   "metadata": {},
   "outputs": [],
   "source": [
    "# Create a new column that is the risk (1-5) associated with z-score\n",
    "# of past tree loss\n",
    "df['risk_score_past'] = get_risk_from_z(df, 'past_risk_z')"
   ]
  },
  {
   "cell_type": "markdown",
   "metadata": {},
   "source": [
    "### Current Risk Calculation\n",
    "#### The metric for current risk is mean treeloss from 2018-2019 as a proportion of forest."
   ]
  },
  {
   "cell_type": "code",
   "execution_count": 9,
   "metadata": {},
   "outputs": [],
   "source": [
    "# Add a column for mean treeloss 2018/2019.\n",
    "cols = ['treeloss_2018', 'treeloss_2019']\n",
    "df['mean_treeloss_1819'] = df.loc[:, cols].mean(axis=1)\n",
    "\n",
    "# Add a column for mean_treeloss_1819 as a proportion of forest.\n",
    "df['mean_treeloss_1819_proportion_of_forest'] = df['mean_treeloss_1819']/df['forest_area']"
   ]
  },
  {
   "cell_type": "code",
   "execution_count": 10,
   "metadata": {},
   "outputs": [
    {
     "data": {
      "text/plain": [
       "Text(0, 0.5, 'mill count')"
      ]
     },
     "execution_count": 10,
     "metadata": {},
     "output_type": "execute_result"
    },
    {
     "data": {
      "image/png": "[encoded data removed]",
      "text/plain": [
       "<Figure size 432x288 with 1 Axes>"
      ]
     },
     "metadata": {
      "needs_background": "light"
     },
     "output_type": "display_data"
    }
   ],
   "source": [
    "# Plot a histogram of the proposed current risk metric.\n",
    "df.hist('mean_treeloss_1819_proportion_of_forest', bins=30)\n",
    "plt.xlabel('mean_treeloss_1819_proportion_of_forest')\n",
    "plt.ylabel('mill count')"
   ]
  },
  {
   "cell_type": "markdown",
   "metadata": {},
   "source": [
    "Try a transformation to make this distribution look more symmetric. Take the square root."
   ]
  },
  {
   "cell_type": "code",
   "execution_count": 11,
   "metadata": {},
   "outputs": [],
   "source": [
    "df['adj_mean_treeloss_1819_proportion_of_forest'] = np.sqrt(df['mean_treeloss_1819_proportion_of_forest'])"
   ]
  },
  {
   "cell_type": "code",
   "execution_count": 12,
   "metadata": {},
   "outputs": [
    {
     "data": {
      "text/plain": [
       "Text(0, 0.5, 'mill count')"
      ]
     },
     "execution_count": 12,
     "metadata": {},
     "output_type": "execute_result"
    },
    {
     "data": {
      "image/png": "[encoded data removed]",
      "text/plain": [
       "<Figure size 432x288 with 1 Axes>"
      ]
     },
     "metadata": {
      "needs_background": "light"
     },
     "output_type": "display_data"
    }
   ],
   "source": [
    "# Plot a histogram of the adjusted current risk metric.\n",
    "df.hist('adj_mean_treeloss_1819_proportion_of_forest', bins=30)\n",
    "plt.xlabel('sqrt mean_treeloss_1819_proportion_of_forest')\n",
    "plt.ylabel('mill count')"
   ]
  },
  {
   "cell_type": "code",
   "execution_count": 13,
   "metadata": {},
   "outputs": [],
   "source": [
    "# Add columns for z score and risk.\n",
    "df['current_risk_z'] = get_z(df, 'adj_mean_treeloss_1819_proportion_of_forest')\n",
    "df['risk_score_current'] = get_risk_from_z(df, 'current_risk_z')"
   ]
  },
  {
   "cell_type": "markdown",
   "metadata": {},
   "source": [
    "### Future Risk Calculation\n",
    "#### The z-score for future risk is 50% current risk z and 50% remaining proportion of forest."
   ]
  },
  {
   "cell_type": "code",
   "execution_count": 14,
   "metadata": {},
   "outputs": [],
   "source": [
    "# Get the z-score for remaining proportion of forest.\n",
    "df['remaining_forest_z'] = get_z(df, 'remaining_proportion_of_forest')"
   ]
  },
  {
   "cell_type": "code",
   "execution_count": 15,
   "metadata": {},
   "outputs": [],
   "source": [
    "df['future_risk_z'] = 0.5*df['current_risk_z'] + 0.5*df['remaining_forest_z']\n",
    "df['risk_score_future'] = get_risk_from_z(df, 'future_risk_z')"
   ]
  },
  {
   "cell_type": "code",
   "execution_count": 16,
   "metadata": {},
   "outputs": [
    {
     "data": {
      "text/plain": [
       "Text(0, 0.5, 'mill count')"
      ]
     },
     "execution_count": 16,
     "metadata": {},
     "output_type": "execute_result"
    },
    {
     "data": {
      "image/png": "[encoded data removed]",
      "text/plain": [
       "<Figure size 432x288 with 1 Axes>"
      ]
     },
     "metadata": {
      "needs_background": "light"
     },
     "output_type": "display_data"
    }
   ],
   "source": [
    "# Plot a histogram for the future risk score z-score.\n",
    "df.hist('future_risk_z', bins=30)\n",
    "plt.xlabel('future risk z-score')\n",
    "plt.ylabel('mill count')"
   ]
  },
  {
   "cell_type": "markdown",
   "metadata": {},
   "source": [
    "This shape means more of the mills will have a future risk of 3."
   ]
  },
  {
   "cell_type": "markdown",
   "metadata": {},
   "source": [
    "## Brand Risk Analysis"
   ]
  },
  {
   "cell_type": "code",
   "execution_count": 17,
   "metadata": {},
   "outputs": [
    {
     "ename": "FileNotFoundError",
     "evalue": "[Errno 2] No such file or directory: '../data/brand_info.csv'",
     "output_type": "error",
     "traceback": [
      "\u001b[0;31m---------------------------------------------------------------------------\u001b[0m",
      "\u001b[0;31mFileNotFoundError\u001b[0m                         Traceback (most recent call last)",
      "\u001b[0;32m<ipython-input-17-400526173721>\u001b[0m in \u001b[0;36m<module>\u001b[0;34m\u001b[0m\n\u001b[1;32m      5\u001b[0m \u001b[0;31m# Bring in brand info.\u001b[0m\u001b[0;34m\u001b[0m\u001b[0;34m\u001b[0m\u001b[0;34m\u001b[0m\u001b[0m\n\u001b[1;32m      6\u001b[0m \u001b[0mbrand_info_file_path\u001b[0m \u001b[0;34m=\u001b[0m \u001b[0mos\u001b[0m\u001b[0;34m.\u001b[0m\u001b[0mpath\u001b[0m\u001b[0;34m.\u001b[0m\u001b[0mjoin\u001b[0m\u001b[0;34m(\u001b[0m\u001b[0mDATA_DIR\u001b[0m\u001b[0;34m,\u001b[0m \u001b[0mBRAND_INFO_FNAME\u001b[0m\u001b[0;34m)\u001b[0m\u001b[0;34m\u001b[0m\u001b[0;34m\u001b[0m\u001b[0m\n\u001b[0;32m----> 7\u001b[0;31m \u001b[0mbrand_info_df\u001b[0m \u001b[0;34m=\u001b[0m \u001b[0mpd\u001b[0m\u001b[0;34m.\u001b[0m\u001b[0mread_csv\u001b[0m\u001b[0;34m(\u001b[0m\u001b[0mbrand_info_file_path\u001b[0m\u001b[0;34m)\u001b[0m\u001b[0;34m\u001b[0m\u001b[0;34m\u001b[0m\u001b[0m\n\u001b[0m\u001b[1;32m      8\u001b[0m \u001b[0mbrand_info_df\u001b[0m\u001b[0;34m.\u001b[0m\u001b[0mrename\u001b[0m\u001b[0;34m(\u001b[0m\u001b[0mcolumns\u001b[0m\u001b[0;34m=\u001b[0m\u001b[0;34m{\u001b[0m\u001b[0;34m'id'\u001b[0m\u001b[0;34m:\u001b[0m\u001b[0;34m'brandid'\u001b[0m\u001b[0;34m,\u001b[0m \u001b[0;34m'name'\u001b[0m\u001b[0;34m:\u001b[0m\u001b[0;34m'brand'\u001b[0m\u001b[0;34m}\u001b[0m\u001b[0;34m,\u001b[0m \u001b[0minplace\u001b[0m\u001b[0;34m=\u001b[0m\u001b[0;32mTrue\u001b[0m\u001b[0;34m)\u001b[0m\u001b[0;34m\u001b[0m\u001b[0;34m\u001b[0m\u001b[0m\n",
      "\u001b[0;32m~/anaconda3/envs/IDI/lib/python3.7/site-packages/pandas/io/parsers.py\u001b[0m in \u001b[0;36mread_csv\u001b[0;34m(filepath_or_buffer, sep, delimiter, header, names, index_col, usecols, squeeze, prefix, mangle_dupe_cols, dtype, engine, converters, true_values, false_values, skipinitialspace, skiprows, skipfooter, nrows, na_values, keep_default_na, na_filter, verbose, skip_blank_lines, parse_dates, infer_datetime_format, keep_date_col, date_parser, dayfirst, cache_dates, iterator, chunksize, compression, thousands, decimal, lineterminator, quotechar, quoting, doublequote, escapechar, comment, encoding, dialect, error_bad_lines, warn_bad_lines, delim_whitespace, low_memory, memory_map, float_precision)\u001b[0m\n\u001b[1;32m    686\u001b[0m     )\n\u001b[1;32m    687\u001b[0m \u001b[0;34m\u001b[0m\u001b[0m\n\u001b[0;32m--> 688\u001b[0;31m     \u001b[0;32mreturn\u001b[0m \u001b[0m_read\u001b[0m\u001b[0;34m(\u001b[0m\u001b[0mfilepath_or_buffer\u001b[0m\u001b[0;34m,\u001b[0m \u001b[0mkwds\u001b[0m\u001b[0;34m)\u001b[0m\u001b[0;34m\u001b[0m\u001b[0;34m\u001b[0m\u001b[0m\n\u001b[0m\u001b[1;32m    689\u001b[0m \u001b[0;34m\u001b[0m\u001b[0m\n\u001b[1;32m    690\u001b[0m \u001b[0;34m\u001b[0m\u001b[0m\n",
      "\u001b[0;32m~/anaconda3/envs/IDI/lib/python3.7/site-packages/pandas/io/parsers.py\u001b[0m in \u001b[0;36m_read\u001b[0;34m(filepath_or_buffer, kwds)\u001b[0m\n\u001b[1;32m    452\u001b[0m \u001b[0;34m\u001b[0m\u001b[0m\n\u001b[1;32m    453\u001b[0m     \u001b[0;31m# Create the parser.\u001b[0m\u001b[0;34m\u001b[0m\u001b[0;34m\u001b[0m\u001b[0;34m\u001b[0m\u001b[0m\n\u001b[0;32m--> 454\u001b[0;31m     \u001b[0mparser\u001b[0m \u001b[0;34m=\u001b[0m \u001b[0mTextFileReader\u001b[0m\u001b[0;34m(\u001b[0m\u001b[0mfp_or_buf\u001b[0m\u001b[0;34m,\u001b[0m \u001b[0;34m**\u001b[0m\u001b[0mkwds\u001b[0m\u001b[0;34m)\u001b[0m\u001b[0;34m\u001b[0m\u001b[0;34m\u001b[0m\u001b[0m\n\u001b[0m\u001b[1;32m    455\u001b[0m \u001b[0;34m\u001b[0m\u001b[0m\n\u001b[1;32m    456\u001b[0m     \u001b[0;32mif\u001b[0m \u001b[0mchunksize\u001b[0m \u001b[0;32mor\u001b[0m \u001b[0miterator\u001b[0m\u001b[0;34m:\u001b[0m\u001b[0;34m\u001b[0m\u001b[0;34m\u001b[0m\u001b[0m\n",
      "\u001b[0;32m~/anaconda3/envs/IDI/lib/python3.7/site-packages/pandas/io/parsers.py\u001b[0m in \u001b[0;36m__init__\u001b[0;34m(self, f, engine, **kwds)\u001b[0m\n\u001b[1;32m    946\u001b[0m             \u001b[0mself\u001b[0m\u001b[0;34m.\u001b[0m\u001b[0moptions\u001b[0m\u001b[0;34m[\u001b[0m\u001b[0;34m\"has_index_names\"\u001b[0m\u001b[0;34m]\u001b[0m \u001b[0;34m=\u001b[0m \u001b[0mkwds\u001b[0m\u001b[0;34m[\u001b[0m\u001b[0;34m\"has_index_names\"\u001b[0m\u001b[0;34m]\u001b[0m\u001b[0;34m\u001b[0m\u001b[0;34m\u001b[0m\u001b[0m\n\u001b[1;32m    947\u001b[0m \u001b[0;34m\u001b[0m\u001b[0m\n\u001b[0;32m--> 948\u001b[0;31m         \u001b[0mself\u001b[0m\u001b[0;34m.\u001b[0m\u001b[0m_make_engine\u001b[0m\u001b[0;34m(\u001b[0m\u001b[0mself\u001b[0m\u001b[0;34m.\u001b[0m\u001b[0mengine\u001b[0m\u001b[0;34m)\u001b[0m\u001b[0;34m\u001b[0m\u001b[0;34m\u001b[0m\u001b[0m\n\u001b[0m\u001b[1;32m    949\u001b[0m \u001b[0;34m\u001b[0m\u001b[0m\n\u001b[1;32m    950\u001b[0m     \u001b[0;32mdef\u001b[0m \u001b[0mclose\u001b[0m\u001b[0;34m(\u001b[0m\u001b[0mself\u001b[0m\u001b[0;34m)\u001b[0m\u001b[0;34m:\u001b[0m\u001b[0;34m\u001b[0m\u001b[0;34m\u001b[0m\u001b[0m\n",
      "\u001b[0;32m~/anaconda3/envs/IDI/lib/python3.7/site-packages/pandas/io/parsers.py\u001b[0m in \u001b[0;36m_make_engine\u001b[0;34m(self, engine)\u001b[0m\n\u001b[1;32m   1178\u001b[0m     \u001b[0;32mdef\u001b[0m \u001b[0m_make_engine\u001b[0m\u001b[0;34m(\u001b[0m\u001b[0mself\u001b[0m\u001b[0;34m,\u001b[0m \u001b[0mengine\u001b[0m\u001b[0;34m=\u001b[0m\u001b[0;34m\"c\"\u001b[0m\u001b[0;34m)\u001b[0m\u001b[0;34m:\u001b[0m\u001b[0;34m\u001b[0m\u001b[0;34m\u001b[0m\u001b[0m\n\u001b[1;32m   1179\u001b[0m         \u001b[0;32mif\u001b[0m \u001b[0mengine\u001b[0m \u001b[0;34m==\u001b[0m \u001b[0;34m\"c\"\u001b[0m\u001b[0;34m:\u001b[0m\u001b[0;34m\u001b[0m\u001b[0;34m\u001b[0m\u001b[0m\n\u001b[0;32m-> 1180\u001b[0;31m             \u001b[0mself\u001b[0m\u001b[0;34m.\u001b[0m\u001b[0m_engine\u001b[0m \u001b[0;34m=\u001b[0m \u001b[0mCParserWrapper\u001b[0m\u001b[0;34m(\u001b[0m\u001b[0mself\u001b[0m\u001b[0;34m.\u001b[0m\u001b[0mf\u001b[0m\u001b[0;34m,\u001b[0m \u001b[0;34m**\u001b[0m\u001b[0mself\u001b[0m\u001b[0;34m.\u001b[0m\u001b[0moptions\u001b[0m\u001b[0;34m)\u001b[0m\u001b[0;34m\u001b[0m\u001b[0;34m\u001b[0m\u001b[0m\n\u001b[0m\u001b[1;32m   1181\u001b[0m         \u001b[0;32melse\u001b[0m\u001b[0;34m:\u001b[0m\u001b[0;34m\u001b[0m\u001b[0;34m\u001b[0m\u001b[0m\n\u001b[1;32m   1182\u001b[0m             \u001b[0;32mif\u001b[0m \u001b[0mengine\u001b[0m \u001b[0;34m==\u001b[0m \u001b[0;34m\"python\"\u001b[0m\u001b[0;34m:\u001b[0m\u001b[0;34m\u001b[0m\u001b[0;34m\u001b[0m\u001b[0m\n",
      "\u001b[0;32m~/anaconda3/envs/IDI/lib/python3.7/site-packages/pandas/io/parsers.py\u001b[0m in \u001b[0;36m__init__\u001b[0;34m(self, src, **kwds)\u001b[0m\n\u001b[1;32m   2008\u001b[0m         \u001b[0mkwds\u001b[0m\u001b[0;34m[\u001b[0m\u001b[0;34m\"usecols\"\u001b[0m\u001b[0;34m]\u001b[0m \u001b[0;34m=\u001b[0m \u001b[0mself\u001b[0m\u001b[0;34m.\u001b[0m\u001b[0musecols\u001b[0m\u001b[0;34m\u001b[0m\u001b[0;34m\u001b[0m\u001b[0m\n\u001b[1;32m   2009\u001b[0m \u001b[0;34m\u001b[0m\u001b[0m\n\u001b[0;32m-> 2010\u001b[0;31m         \u001b[0mself\u001b[0m\u001b[0;34m.\u001b[0m\u001b[0m_reader\u001b[0m \u001b[0;34m=\u001b[0m \u001b[0mparsers\u001b[0m\u001b[0;34m.\u001b[0m\u001b[0mTextReader\u001b[0m\u001b[0;34m(\u001b[0m\u001b[0msrc\u001b[0m\u001b[0;34m,\u001b[0m \u001b[0;34m**\u001b[0m\u001b[0mkwds\u001b[0m\u001b[0;34m)\u001b[0m\u001b[0;34m\u001b[0m\u001b[0;34m\u001b[0m\u001b[0m\n\u001b[0m\u001b[1;32m   2011\u001b[0m         \u001b[0mself\u001b[0m\u001b[0;34m.\u001b[0m\u001b[0munnamed_cols\u001b[0m \u001b[0;34m=\u001b[0m \u001b[0mself\u001b[0m\u001b[0;34m.\u001b[0m\u001b[0m_reader\u001b[0m\u001b[0;34m.\u001b[0m\u001b[0munnamed_cols\u001b[0m\u001b[0;34m\u001b[0m\u001b[0;34m\u001b[0m\u001b[0m\n\u001b[1;32m   2012\u001b[0m \u001b[0;34m\u001b[0m\u001b[0m\n",
      "\u001b[0;32mpandas/_libs/parsers.pyx\u001b[0m in \u001b[0;36mpandas._libs.parsers.TextReader.__cinit__\u001b[0;34m()\u001b[0m\n",
      "\u001b[0;32mpandas/_libs/parsers.pyx\u001b[0m in \u001b[0;36mpandas._libs.parsers.TextReader._setup_parser_source\u001b[0;34m()\u001b[0m\n",
      "\u001b[0;31mFileNotFoundError\u001b[0m: [Errno 2] No such file or directory: '../data/brand_info.csv'"
     ]
    }
   ],
   "source": [
    "# Bring in brand-mill matches.\n",
    "match_file_path = os.path.join(DATA_DIR, BRAND_MILL_MATCHES_FNAME)\n",
    "match_df = pd.read_csv(match_file_path)\n",
    "\n",
    "# Bring in brand info.\n",
    "brand_info_file_path = os.path.join(DATA_DIR, BRAND_INFO_FNAME)\n",
    "brand_info_df = pd.read_csv(brand_info_file_path)\n",
    "brand_info_df.rename(columns={'id':'brandid', 'name':'brand'}, inplace=True)"
   ]
  },
  {
   "cell_type": "code",
   "execution_count": null,
   "metadata": {},
   "outputs": [],
   "source": [
    "# Merge brand info and matches data frames on brandid.\n",
    "df1 = match_df.merge(brand_info_df[['brandid', 'brand']], on='brandid', how='left')"
   ]
  },
  {
   "cell_type": "code",
   "execution_count": null,
   "metadata": {},
   "outputs": [],
   "source": [
    "# Merge with mill loss/risk data.\n",
    "brands_df = df1.merge(df, on='umlid', how='left')\n",
    "brands_df.dropna(subset=['treeloss_sum'], inplace=True)\n",
    "brands_df.info()"
   ]
  },
  {
   "cell_type": "code",
   "execution_count": null,
   "metadata": {},
   "outputs": [],
   "source": [
    "# Get mean risk scores for each brand.\n",
    "agg_df = brands_df.groupby('brandid').agg({'brand':'first',\n",
    "                                           'umlid':'count',\n",
    "                                           'risk_score_past':'mean',\n",
    "                                           'risk_score_current':'mean',\n",
    "                                           'risk_score_future':'mean'})\n",
    "agg_df.rename(columns={'umlid':'mill_count'}, inplace=True)\n",
    "agg_df.head(13)"
   ]
  },
  {
   "cell_type": "code",
   "execution_count": null,
   "metadata": {},
   "outputs": [],
   "source": [
    "# Plot mill count.\n",
    "agg_df.plot('brand', 'mill_count', kind='bar')"
   ]
  },
  {
   "cell_type": "code",
   "execution_count": null,
   "metadata": {},
   "outputs": [],
   "source": [
    "# Plot brand past risk.\n",
    "agg_df.plot('brand', 'risk_score_past', kind='bar')"
   ]
  },
  {
   "cell_type": "code",
   "execution_count": null,
   "metadata": {},
   "outputs": [],
   "source": [
    "# Plot brand current risk.\n",
    "agg_df.plot('brand', 'risk_score_current', kind='bar')"
   ]
  },
  {
   "cell_type": "code",
   "execution_count": null,
   "metadata": {
    "scrolled": true
   },
   "outputs": [],
   "source": [
    "# Plot brand future risk.\n",
    "agg_df.plot('brand', 'risk_score_future', kind='bar')"
   ]
  },
  {
   "cell_type": "markdown",
   "metadata": {},
   "source": [
    "The mean score for every brand is very close to 3 - which is the average score for all mills.  This makes sense for brands like Kellogg who source from most mills, but it's also true for Ferrero which only has 31 mills, so we can infer that brands are not choosing mills based on deforestation."
   ]
  },
  {
   "cell_type": "code",
   "execution_count": null,
   "metadata": {},
   "outputs": [],
   "source": []
  }
 ],
 "metadata": {
  "kernelspec": {
   "display_name": "Python 3",
   "language": "python",
   "name": "python3"
  },
  "language_info": {
   "codemirror_mode": {
    "name": "ipython",
    "version": 3
   },
   "file_extension": ".py",
   "mimetype": "text/x-python",
   "name": "python",
   "nbconvert_exporter": "python",
   "pygments_lexer": "ipython3",
   "version": "3.7.6"
  }
 },
 "nbformat": 4,
 "nbformat_minor": 4
}
