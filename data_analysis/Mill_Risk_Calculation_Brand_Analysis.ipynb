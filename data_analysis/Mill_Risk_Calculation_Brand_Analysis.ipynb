{
 "cells": [
  {
   "cell_type": "markdown",
   "metadata": {},
   "source": [
    "# Calculate Past, Current, and Future Mill Risk Scores using Tree Cover Loss Data and Aggregate Brand Risk\n",
    "### All risk calculations are replicated in the batch layer which produces the data that serves the Tracker application.\n",
    "### Risk calculation method is modeled after the PALM risk tool developed by the World Resources Institute (detailed [here](https://files.wri.org/s3fs-public/Palm_Risk_Assessment_Methodology_Prioritizing_Areas_Landscapes_And_Mills.pdf))."
   ]
  },
  {
   "cell_type": "code",
   "execution_count": 1,
   "metadata": {},
   "outputs": [],
   "source": [
    "# Imports\n",
    "import pandas as pd\n",
    "import numpy as np\n",
    "from matplotlib import pyplot as plt\n",
    "import geopandas as gpd\n",
    "import os"
   ]
  },
  {
   "cell_type": "code",
   "execution_count": 2,
   "metadata": {},
   "outputs": [],
   "source": [
    "# Parameters\n",
    "DATA_DIR = \"../data\"\n",
    "MILL_LOSS_FNAME = 'uml_loss.csv'\n",
    "BRAND_MILL_MATCHES_FNAME = 'brand_mills.csv'\n",
    "BRAND_INFO_FNAME = 'brand_info.csv'"
   ]
  },
  {
   "cell_type": "code",
   "execution_count": 3,
   "metadata": {},
   "outputs": [
    {
     "data": {
      "text/html": [
       "<div>\n",
       "<style scoped>\n",
       "    .dataframe tbody tr th:only-of-type {\n",
       "        vertical-align: middle;\n",
       "    }\n",
       "\n",
       "    .dataframe tbody tr th {\n",
       "        vertical-align: top;\n",
       "    }\n",
       "\n",
       "    .dataframe thead th {\n",
       "        text-align: right;\n",
       "    }\n",
       "</style>\n",
       "<table border=\"1\" class=\"dataframe\">\n",
       "  <thead>\n",
       "    <tr style=\"text-align: right;\">\n",
       "      <th></th>\n",
       "      <th>umlid</th>\n",
       "      <th>treeloss_sum</th>\n",
       "      <th>land_area</th>\n",
       "      <th>forest_area</th>\n",
       "      <th>treeloss_2001</th>\n",
       "      <th>treeloss_2002</th>\n",
       "      <th>treeloss_2003</th>\n",
       "      <th>treeloss_2004</th>\n",
       "      <th>treeloss_2005</th>\n",
       "      <th>treeloss_2006</th>\n",
       "      <th>...</th>\n",
       "      <th>treeloss_2013</th>\n",
       "      <th>treeloss_2014</th>\n",
       "      <th>treeloss_2015</th>\n",
       "      <th>treeloss_2016</th>\n",
       "      <th>treeloss_2017</th>\n",
       "      <th>treeloss_2018</th>\n",
       "      <th>treeloss_2019</th>\n",
       "      <th>treeloss_sum_proportion_of_land</th>\n",
       "      <th>treeloss_sum_proportion_of_forest</th>\n",
       "      <th>remaining_proportion_of_forest</th>\n",
       "    </tr>\n",
       "  </thead>\n",
       "  <tbody>\n",
       "    <tr>\n",
       "      <th>0</th>\n",
       "      <td>po1000000021</td>\n",
       "      <td>1906.499294</td>\n",
       "      <td>7161.378706</td>\n",
       "      <td>5110.225765</td>\n",
       "      <td>247.503529</td>\n",
       "      <td>72.550235</td>\n",
       "      <td>0.810000</td>\n",
       "      <td>27.959294</td>\n",
       "      <td>56.750824</td>\n",
       "      <td>117.159176</td>\n",
       "      <td>...</td>\n",
       "      <td>6.826235</td>\n",
       "      <td>80.903294</td>\n",
       "      <td>25.444235</td>\n",
       "      <td>251.816118</td>\n",
       "      <td>101.639294</td>\n",
       "      <td>358.871294</td>\n",
       "      <td>358.554706</td>\n",
       "      <td>0.266220</td>\n",
       "      <td>0.373075</td>\n",
       "      <td>0.626925</td>\n",
       "    </tr>\n",
       "    <tr>\n",
       "      <th>1</th>\n",
       "      <td>po1000000054</td>\n",
       "      <td>15316.790118</td>\n",
       "      <td>26077.698706</td>\n",
       "      <td>21678.912000</td>\n",
       "      <td>1488.427765</td>\n",
       "      <td>339.160235</td>\n",
       "      <td>53.039647</td>\n",
       "      <td>2621.975647</td>\n",
       "      <td>413.567294</td>\n",
       "      <td>33.870706</td>\n",
       "      <td>...</td>\n",
       "      <td>993.768000</td>\n",
       "      <td>1140.495882</td>\n",
       "      <td>177.437294</td>\n",
       "      <td>1425.052941</td>\n",
       "      <td>256.883647</td>\n",
       "      <td>463.839529</td>\n",
       "      <td>1809.525176</td>\n",
       "      <td>0.587352</td>\n",
       "      <td>0.706529</td>\n",
       "      <td>0.293471</td>\n",
       "    </tr>\n",
       "    <tr>\n",
       "      <th>2</th>\n",
       "      <td>po1000000058</td>\n",
       "      <td>4651.115294</td>\n",
       "      <td>13248.475765</td>\n",
       "      <td>9117.221294</td>\n",
       "      <td>44.759294</td>\n",
       "      <td>56.023765</td>\n",
       "      <td>41.248588</td>\n",
       "      <td>174.501176</td>\n",
       "      <td>101.384471</td>\n",
       "      <td>193.381059</td>\n",
       "      <td>...</td>\n",
       "      <td>81.580941</td>\n",
       "      <td>745.530706</td>\n",
       "      <td>534.654353</td>\n",
       "      <td>336.262235</td>\n",
       "      <td>259.358471</td>\n",
       "      <td>504.688941</td>\n",
       "      <td>126.654706</td>\n",
       "      <td>0.351068</td>\n",
       "      <td>0.510146</td>\n",
       "      <td>0.489854</td>\n",
       "    </tr>\n",
       "    <tr>\n",
       "      <th>3</th>\n",
       "      <td>po1000000092</td>\n",
       "      <td>9652.010118</td>\n",
       "      <td>26006.595882</td>\n",
       "      <td>18086.659765</td>\n",
       "      <td>576.822706</td>\n",
       "      <td>768.397412</td>\n",
       "      <td>113.075647</td>\n",
       "      <td>542.520353</td>\n",
       "      <td>252.378706</td>\n",
       "      <td>346.090588</td>\n",
       "      <td>...</td>\n",
       "      <td>551.062941</td>\n",
       "      <td>719.165647</td>\n",
       "      <td>403.048588</td>\n",
       "      <td>362.144824</td>\n",
       "      <td>796.576235</td>\n",
       "      <td>770.922706</td>\n",
       "      <td>652.863882</td>\n",
       "      <td>0.371137</td>\n",
       "      <td>0.533654</td>\n",
       "      <td>0.466346</td>\n",
       "    </tr>\n",
       "    <tr>\n",
       "      <th>4</th>\n",
       "      <td>po1000000095</td>\n",
       "      <td>2360.988706</td>\n",
       "      <td>5650.993765</td>\n",
       "      <td>3973.180588</td>\n",
       "      <td>525.207529</td>\n",
       "      <td>13.588235</td>\n",
       "      <td>70.791529</td>\n",
       "      <td>280.605176</td>\n",
       "      <td>61.301294</td>\n",
       "      <td>64.769647</td>\n",
       "      <td>...</td>\n",
       "      <td>112.750588</td>\n",
       "      <td>41.353765</td>\n",
       "      <td>148.994118</td>\n",
       "      <td>342.013412</td>\n",
       "      <td>67.116353</td>\n",
       "      <td>58.680000</td>\n",
       "      <td>121.770000</td>\n",
       "      <td>0.417801</td>\n",
       "      <td>0.594231</td>\n",
       "      <td>0.405769</td>\n",
       "    </tr>\n",
       "  </tbody>\n",
       "</table>\n",
       "<p>5 rows × 26 columns</p>\n",
       "</div>"
      ],
      "text/plain": [
       "          umlid  treeloss_sum     land_area   forest_area  treeloss_2001  \\\n",
       "0  po1000000021   1906.499294   7161.378706   5110.225765     247.503529   \n",
       "1  po1000000054  15316.790118  26077.698706  21678.912000    1488.427765   \n",
       "2  po1000000058   4651.115294  13248.475765   9117.221294      44.759294   \n",
       "3  po1000000092   9652.010118  26006.595882  18086.659765     576.822706   \n",
       "4  po1000000095   2360.988706   5650.993765   3973.180588     525.207529   \n",
       "\n",
       "   treeloss_2002  treeloss_2003  treeloss_2004  treeloss_2005  treeloss_2006  \\\n",
       "0      72.550235       0.810000      27.959294      56.750824     117.159176   \n",
       "1     339.160235      53.039647    2621.975647     413.567294      33.870706   \n",
       "2      56.023765      41.248588     174.501176     101.384471     193.381059   \n",
       "3     768.397412     113.075647     542.520353     252.378706     346.090588   \n",
       "4      13.588235      70.791529     280.605176      61.301294      64.769647   \n",
       "\n",
       "   ...  treeloss_2013  treeloss_2014  treeloss_2015  treeloss_2016  \\\n",
       "0  ...       6.826235      80.903294      25.444235     251.816118   \n",
       "1  ...     993.768000    1140.495882     177.437294    1425.052941   \n",
       "2  ...      81.580941     745.530706     534.654353     336.262235   \n",
       "3  ...     551.062941     719.165647     403.048588     362.144824   \n",
       "4  ...     112.750588      41.353765     148.994118     342.013412   \n",
       "\n",
       "   treeloss_2017  treeloss_2018  treeloss_2019  \\\n",
       "0     101.639294     358.871294     358.554706   \n",
       "1     256.883647     463.839529    1809.525176   \n",
       "2     259.358471     504.688941     126.654706   \n",
       "3     796.576235     770.922706     652.863882   \n",
       "4      67.116353      58.680000     121.770000   \n",
       "\n",
       "   treeloss_sum_proportion_of_land  treeloss_sum_proportion_of_forest  \\\n",
       "0                         0.266220                           0.373075   \n",
       "1                         0.587352                           0.706529   \n",
       "2                         0.351068                           0.510146   \n",
       "3                         0.371137                           0.533654   \n",
       "4                         0.417801                           0.594231   \n",
       "\n",
       "   remaining_proportion_of_forest  \n",
       "0                        0.626925  \n",
       "1                        0.293471  \n",
       "2                        0.489854  \n",
       "3                        0.466346  \n",
       "4                        0.405769  \n",
       "\n",
       "[5 rows x 26 columns]"
      ]
     },
     "execution_count": 3,
     "metadata": {},
     "output_type": "execute_result"
    }
   ],
   "source": [
    "# Bring in Mills Tree Cover Loss data.\n",
    "loss_file_path = os.path.join(DATA_DIR, MILL_LOSS_FNAME)\n",
    "df = pd.read_csv (loss_file_path)\n",
    "df['umlid'] = df['umlid'].str.lower()\n",
    "df.head()"
   ]
  },
  {
   "cell_type": "markdown",
   "metadata": {},
   "source": [
    "#### Risk score method\n",
    "1. Choose a metric (ex: cumulative past tree loss)\n",
    "2. Convert the metric to a z-score (relative to mean and standard deviation)\n",
    "3. Convert the z-score to a 1-5 risk score.\n",
    "- risk score 1: z < -1\n",
    "- risk score 2: -1 <= z < -0.5\n",
    "- risk score 3: -0.5 <= z <= 0.5\n",
    "- risk score 4: 0.5 < z <= 1\n",
    "- risk score 5: z > 1"
   ]
  },
  {
   "cell_type": "code",
   "execution_count": 4,
   "metadata": {},
   "outputs": [],
   "source": [
    "def get_z(df, col):\n",
    "    '''\n",
    "    This function calculates the z-score from a specified column of a dataset.\n",
    "    '''\n",
    "    mu = df[col].mean()\n",
    "    sd = df[col].std()\n",
    "    return (df[col] - mu)/sd"
   ]
  },
  {
   "cell_type": "code",
   "execution_count": 5,
   "metadata": {},
   "outputs": [],
   "source": [
    "def get_risk_from_z(df, z_col):\n",
    "    rv = 5*(df[z_col] > 1) + \\\n",
    "          4*(df[z_col].between(0.5, 1)) + \\\n",
    "          3*(df[z_col].between(-0.5, 0.5)) + \\\n",
    "          2*(df[z_col].between(-1, -0.5)) + \\\n",
    "          1*(df[z_col] < -1)\n",
    "\n",
    "    return rv"
   ]
  },
  {
   "cell_type": "markdown",
   "metadata": {},
   "source": [
    "### Past Risk Calculation\n",
    "#### The metric for past risk is cumulative treeloss from 2001-2019 as a proportion of forest."
   ]
  },
  {
   "cell_type": "code",
   "execution_count": 6,
   "metadata": {},
   "outputs": [
    {
     "data": {
      "text/plain": [
       "Text(0, 0.5, 'mill count')"
      ]
     },
     "execution_count": 6,
     "metadata": {},
     "output_type": "execute_result"
    },
    {
     "data": {
      "image/png": "[encoded data removed]",
      "text/plain": [
       "<Figure size 432x288 with 1 Axes>"
      ]
     },
     "metadata": {
      "needs_background": "light"
     },
     "output_type": "display_data"
    }
   ],
   "source": [
    "# Look at the distribution of the past risk metric.\n",
    "df.hist('treeloss_sum_proportion_of_forest', bins=30)\n",
    "plt.xlabel('treeloss_sum_proportion_of_forest')\n",
    "plt.ylabel('mill count')"
   ]
  },
  {
   "cell_type": "code",
   "execution_count": 7,
   "metadata": {},
   "outputs": [],
   "source": [
    "# Create a new column that is the z-score for the sqrt tree loss proportion.\n",
    "df['past_risk_z'] = get_z(df, 'treeloss_sum_proportion_of_forest')"
   ]
  },
  {
   "cell_type": "code",
   "execution_count": 8,
   "metadata": {},
   "outputs": [],
   "source": [
    "# Create a new column that is the risk (1-5) associated with z-score\n",
    "# of past tree loss\n",
    "df['risk_score_past'] = get_risk_from_z(df, 'past_risk_z')"
   ]
  },
  {
   "cell_type": "markdown",
   "metadata": {},
   "source": [
    "### Current Risk Calculation\n",
    "#### The metric for current risk is mean treeloss from 2018-2019 as a proportion of forest."
   ]
  },
  {
   "cell_type": "code",
   "execution_count": 9,
   "metadata": {},
   "outputs": [],
   "source": [
    "# Add a column for mean treeloss 2018/2019.\n",
    "cols = ['treeloss_2018', 'treeloss_2019']\n",
    "df['mean_treeloss_1819'] = df.loc[:, cols].mean(axis=1)\n",
    "\n",
    "# Add a column for mean_treeloss_1819 as a proportion of forest.\n",
    "df['mean_treeloss_1819_proportion_of_forest'] = df['mean_treeloss_1819']/df['forest_area']"
   ]
  },
  {
   "cell_type": "code",
   "execution_count": 10,
   "metadata": {},
   "outputs": [
    {
     "data": {
      "text/plain": [
       "Text(0, 0.5, 'mill count')"
      ]
     },
     "execution_count": 10,
     "metadata": {},
     "output_type": "execute_result"
    },
    {
     "data": {
      "image/png": "[encoded data removed]",
      "text/plain": [
       "<Figure size 432x288 with 1 Axes>"
      ]
     },
     "metadata": {
      "needs_background": "light"
     },
     "output_type": "display_data"
    }
   ],
   "source": [
    "# Plot a histogram of the proposed current risk metric.\n",
    "df.hist('mean_treeloss_1819_proportion_of_forest', bins=30)\n",
    "plt.xlabel('mean_treeloss_1819_proportion_of_forest')\n",
    "plt.ylabel('mill count')"
   ]
  },
  {
   "cell_type": "markdown",
   "metadata": {},
   "source": [
    "Try a transformation to make this distribution look more symmetric. Take the square root."
   ]
  },
  {
   "cell_type": "code",
   "execution_count": 11,
   "metadata": {},
   "outputs": [],
   "source": [
    "df['adj_mean_treeloss_1819_proportion_of_forest'] = np.sqrt(df['mean_treeloss_1819_proportion_of_forest'])"
   ]
  },
  {
   "cell_type": "code",
   "execution_count": 12,
   "metadata": {},
   "outputs": [
    {
     "data": {
      "text/plain": [
       "Text(0, 0.5, 'mill count')"
      ]
     },
     "execution_count": 12,
     "metadata": {},
     "output_type": "execute_result"
    },
    {
     "data": {
      "image/png": "[encoded data removed]",
      "text/plain": [
       "<Figure size 432x288 with 1 Axes>"
      ]
     },
     "metadata": {
      "needs_background": "light"
     },
     "output_type": "display_data"
    }
   ],
   "source": [
    "# Plot a histogram of the adjusted current risk metric.\n",
    "df.hist('adj_mean_treeloss_1819_proportion_of_forest', bins=30)\n",
    "plt.xlabel('sqrt mean_treeloss_1819_proportion_of_forest')\n",
    "plt.ylabel('mill count')"
   ]
  },
  {
   "cell_type": "code",
   "execution_count": 13,
   "metadata": {},
   "outputs": [],
   "source": [
    "# Add columns for z score and risk.\n",
    "df['current_risk_z'] = get_z(df, 'adj_mean_treeloss_1819_proportion_of_forest')\n",
    "df['risk_score_current'] = get_risk_from_z(df, 'current_risk_z')"
   ]
  },
  {
   "cell_type": "markdown",
   "metadata": {},
   "source": [
    "### Future Risk Calculation\n",
    "#### The z-score for future risk is 50% current risk z and 50% remaining proportion of forest."
   ]
  },
  {
   "cell_type": "code",
   "execution_count": 14,
   "metadata": {},
   "outputs": [],
   "source": [
    "# Get the z-score for remaining proportion of forest.\n",
    "df['remaining_forest_z'] = get_z(df, 'remaining_proportion_of_forest')"
   ]
  },
  {
   "cell_type": "code",
   "execution_count": 15,
   "metadata": {},
   "outputs": [],
   "source": [
    "df['future_risk_z'] = 0.5*df['current_risk_z'] + 0.5*df['remaining_forest_z']\n",
    "df['risk_score_future'] = get_risk_from_z(df, 'future_risk_z')"
   ]
  },
  {
   "cell_type": "code",
   "execution_count": 16,
   "metadata": {},
   "outputs": [
    {
     "data": {
      "text/plain": [
       "Text(0, 0.5, 'mill count')"
      ]
     },
     "execution_count": 16,
     "metadata": {},
     "output_type": "execute_result"
    },
    {
     "data": {
      "image/png": "[encoded data removed]",
      "text/plain": [
       "<Figure size 432x288 with 1 Axes>"
      ]
     },
     "metadata": {
      "needs_background": "light"
     },
     "output_type": "display_data"
    }
   ],
   "source": [
    "# Plot a histogram for the future risk score z-score.\n",
    "df.hist('future_risk_z', bins=30)\n",
    "plt.xlabel('future risk z-score')\n",
    "plt.ylabel('mill count')"
   ]
  },
  {
   "cell_type": "markdown",
   "metadata": {},
   "source": [
    "This shape means more of the mills will have a future risk of 3."
   ]
  },
  {
   "cell_type": "markdown",
   "metadata": {},
   "source": [
    "## Brand Risk Analysis"
   ]
  },
  {
   "cell_type": "code",
   "execution_count": 17,
   "metadata": {},
   "outputs": [],
   "source": [
    "# Bring in brand-mill matches.\n",
    "match_file_path = os.path.join(DATA_DIR, BRAND_MILL_MATCHES_FNAME)\n",
    "match_df = pd.read_csv(match_file_path)\n",
    "\n",
    "# Bring in brand info.\n",
    "brand_info_file_path = os.path.join(DATA_DIR, BRAND_INFO_FNAME)\n",
    "brand_info_df = pd.read_csv(brand_info_file_path)\n",
    "brand_info_df.rename(columns={'id':'brandid', 'name':'brand'}, inplace=True)"
   ]
  },
  {
   "cell_type": "code",
   "execution_count": 18,
   "metadata": {},
   "outputs": [],
   "source": [
    "# Merge brand info and matches data frames on brandid.\n",
    "df1 = match_df.merge(brand_info_df[['brandid', 'brand']], on='brandid', how='left')"
   ]
  },
  {
   "cell_type": "code",
   "execution_count": 19,
   "metadata": {},
   "outputs": [
    {
     "name": "stdout",
     "output_type": "stream",
     "text": [
      "<class 'pandas.core.frame.DataFrame'>\n",
      "Int64Index: 8169 entries, 0 to 8426\n",
      "Data columns (total 38 columns):\n",
      " #   Column                                       Non-Null Count  Dtype  \n",
      "---  ------                                       --------------  -----  \n",
      " 0   brandid                                      8169 non-null   int64  \n",
      " 1   umlid                                        8169 non-null   object \n",
      " 2   brand                                        8169 non-null   object \n",
      " 3   treeloss_sum                                 8169 non-null   float64\n",
      " 4   land_area                                    8169 non-null   float64\n",
      " 5   forest_area                                  8169 non-null   float64\n",
      " 6   treeloss_2001                                8169 non-null   float64\n",
      " 7   treeloss_2002                                8169 non-null   float64\n",
      " 8   treeloss_2003                                8169 non-null   float64\n",
      " 9   treeloss_2004                                8169 non-null   float64\n",
      " 10  treeloss_2005                                8169 non-null   float64\n",
      " 11  treeloss_2006                                8169 non-null   float64\n",
      " 12  treeloss_2007                                8169 non-null   float64\n",
      " 13  treeloss_2008                                8169 non-null   float64\n",
      " 14  treeloss_2009                                8169 non-null   float64\n",
      " 15  treeloss_2010                                8169 non-null   float64\n",
      " 16  treeloss_2011                                8169 non-null   float64\n",
      " 17  treeloss_2012                                8169 non-null   float64\n",
      " 18  treeloss_2013                                8169 non-null   float64\n",
      " 19  treeloss_2014                                8169 non-null   float64\n",
      " 20  treeloss_2015                                8169 non-null   float64\n",
      " 21  treeloss_2016                                8169 non-null   float64\n",
      " 22  treeloss_2017                                8169 non-null   float64\n",
      " 23  treeloss_2018                                8169 non-null   float64\n",
      " 24  treeloss_2019                                8169 non-null   float64\n",
      " 25  treeloss_sum_proportion_of_land              8169 non-null   float64\n",
      " 26  treeloss_sum_proportion_of_forest            8169 non-null   float64\n",
      " 27  remaining_proportion_of_forest               8169 non-null   float64\n",
      " 28  past_risk_z                                  8169 non-null   float64\n",
      " 29  risk_score_past                              8169 non-null   float64\n",
      " 30  mean_treeloss_1819                           8169 non-null   float64\n",
      " 31  mean_treeloss_1819_proportion_of_forest      8169 non-null   float64\n",
      " 32  adj_mean_treeloss_1819_proportion_of_forest  8169 non-null   float64\n",
      " 33  current_risk_z                               8169 non-null   float64\n",
      " 34  risk_score_current                           8169 non-null   float64\n",
      " 35  remaining_forest_z                           8169 non-null   float64\n",
      " 36  future_risk_z                                8169 non-null   float64\n",
      " 37  risk_score_future                            8169 non-null   float64\n",
      "dtypes: float64(35), int64(1), object(2)\n",
      "memory usage: 2.4+ MB\n"
     ]
    }
   ],
   "source": [
    "# Merge with mill loss/risk data.\n",
    "brands_df = df1.merge(df, on='umlid', how='left')\n",
    "brands_df.dropna(subset=['treeloss_sum'], inplace=True)\n",
    "brands_df.info()"
   ]
  },
  {
   "cell_type": "code",
   "execution_count": 20,
   "metadata": {},
   "outputs": [
    {
     "data": {
      "text/html": [
       "<div>\n",
       "<style scoped>\n",
       "    .dataframe tbody tr th:only-of-type {\n",
       "        vertical-align: middle;\n",
       "    }\n",
       "\n",
       "    .dataframe tbody tr th {\n",
       "        vertical-align: top;\n",
       "    }\n",
       "\n",
       "    .dataframe thead th {\n",
       "        text-align: right;\n",
       "    }\n",
       "</style>\n",
       "<table border=\"1\" class=\"dataframe\">\n",
       "  <thead>\n",
       "    <tr style=\"text-align: right;\">\n",
       "      <th></th>\n",
       "      <th>brand</th>\n",
       "      <th>mill_count</th>\n",
       "      <th>risk_score_past</th>\n",
       "      <th>risk_score_current</th>\n",
       "      <th>risk_score_future</th>\n",
       "    </tr>\n",
       "    <tr>\n",
       "      <th>brandid</th>\n",
       "      <th></th>\n",
       "      <th></th>\n",
       "      <th></th>\n",
       "      <th></th>\n",
       "      <th></th>\n",
       "    </tr>\n",
       "  </thead>\n",
       "  <tbody>\n",
       "    <tr>\n",
       "      <th>1</th>\n",
       "      <td>Ferrero</td>\n",
       "      <td>31</td>\n",
       "      <td>3.225806</td>\n",
       "      <td>3.064516</td>\n",
       "      <td>2.903226</td>\n",
       "    </tr>\n",
       "    <tr>\n",
       "      <th>2</th>\n",
       "      <td>Kellogg Company</td>\n",
       "      <td>930</td>\n",
       "      <td>2.973118</td>\n",
       "      <td>2.935484</td>\n",
       "      <td>2.963441</td>\n",
       "    </tr>\n",
       "    <tr>\n",
       "      <th>3</th>\n",
       "      <td>PepsiCo</td>\n",
       "      <td>932</td>\n",
       "      <td>2.977468</td>\n",
       "      <td>2.927039</td>\n",
       "      <td>2.957082</td>\n",
       "    </tr>\n",
       "    <tr>\n",
       "      <th>4</th>\n",
       "      <td>Royal FrieslandCampina N.V.</td>\n",
       "      <td>367</td>\n",
       "      <td>3.002725</td>\n",
       "      <td>2.912807</td>\n",
       "      <td>2.937330</td>\n",
       "    </tr>\n",
       "    <tr>\n",
       "      <th>5</th>\n",
       "      <td>Johnson &amp; Johnson</td>\n",
       "      <td>751</td>\n",
       "      <td>2.988016</td>\n",
       "      <td>2.925433</td>\n",
       "      <td>2.956059</td>\n",
       "    </tr>\n",
       "    <tr>\n",
       "      <th>6</th>\n",
       "      <td>General Mills, Inc</td>\n",
       "      <td>934</td>\n",
       "      <td>2.986081</td>\n",
       "      <td>2.935760</td>\n",
       "      <td>2.958244</td>\n",
       "    </tr>\n",
       "    <tr>\n",
       "      <th>7</th>\n",
       "      <td>The Hershey Company</td>\n",
       "      <td>904</td>\n",
       "      <td>2.953540</td>\n",
       "      <td>2.923673</td>\n",
       "      <td>2.970133</td>\n",
       "    </tr>\n",
       "    <tr>\n",
       "      <th>8</th>\n",
       "      <td>L'Oreal</td>\n",
       "      <td>807</td>\n",
       "      <td>2.955390</td>\n",
       "      <td>2.921933</td>\n",
       "      <td>2.966543</td>\n",
       "    </tr>\n",
       "    <tr>\n",
       "      <th>9</th>\n",
       "      <td>The Procter &amp; Gamble Company</td>\n",
       "      <td>461</td>\n",
       "      <td>2.943601</td>\n",
       "      <td>2.908894</td>\n",
       "      <td>2.960954</td>\n",
       "    </tr>\n",
       "    <tr>\n",
       "      <th>10</th>\n",
       "      <td>Colgate-Palmolive Company</td>\n",
       "      <td>172</td>\n",
       "      <td>2.924419</td>\n",
       "      <td>3.081395</td>\n",
       "      <td>3.029070</td>\n",
       "    </tr>\n",
       "    <tr>\n",
       "      <th>11</th>\n",
       "      <td>Nestlé</td>\n",
       "      <td>897</td>\n",
       "      <td>2.952062</td>\n",
       "      <td>2.939799</td>\n",
       "      <td>2.971014</td>\n",
       "    </tr>\n",
       "    <tr>\n",
       "      <th>12</th>\n",
       "      <td>Mars, Incorporated</td>\n",
       "      <td>756</td>\n",
       "      <td>2.947090</td>\n",
       "      <td>2.937831</td>\n",
       "      <td>2.980159</td>\n",
       "    </tr>\n",
       "    <tr>\n",
       "      <th>13</th>\n",
       "      <td>Unilever</td>\n",
       "      <td>227</td>\n",
       "      <td>2.823789</td>\n",
       "      <td>2.854626</td>\n",
       "      <td>2.960352</td>\n",
       "    </tr>\n",
       "  </tbody>\n",
       "</table>\n",
       "</div>"
      ],
      "text/plain": [
       "                                brand  mill_count  risk_score_past  \\\n",
       "brandid                                                              \n",
       "1                             Ferrero          31         3.225806   \n",
       "2                     Kellogg Company         930         2.973118   \n",
       "3                             PepsiCo         932         2.977468   \n",
       "4         Royal FrieslandCampina N.V.         367         3.002725   \n",
       "5                   Johnson & Johnson         751         2.988016   \n",
       "6                  General Mills, Inc         934         2.986081   \n",
       "7                 The Hershey Company         904         2.953540   \n",
       "8                             L'Oreal         807         2.955390   \n",
       "9        The Procter & Gamble Company         461         2.943601   \n",
       "10          Colgate-Palmolive Company         172         2.924419   \n",
       "11                             Nestlé         897         2.952062   \n",
       "12                 Mars, Incorporated         756         2.947090   \n",
       "13                           Unilever         227         2.823789   \n",
       "\n",
       "         risk_score_current  risk_score_future  \n",
       "brandid                                         \n",
       "1                  3.064516           2.903226  \n",
       "2                  2.935484           2.963441  \n",
       "3                  2.927039           2.957082  \n",
       "4                  2.912807           2.937330  \n",
       "5                  2.925433           2.956059  \n",
       "6                  2.935760           2.958244  \n",
       "7                  2.923673           2.970133  \n",
       "8                  2.921933           2.966543  \n",
       "9                  2.908894           2.960954  \n",
       "10                 3.081395           3.029070  \n",
       "11                 2.939799           2.971014  \n",
       "12                 2.937831           2.980159  \n",
       "13                 2.854626           2.960352  "
      ]
     },
     "execution_count": 20,
     "metadata": {},
     "output_type": "execute_result"
    }
   ],
   "source": [
    "# Get mean risk scores for each brand.\n",
    "agg_df = brands_df.groupby('brandid').agg({'brand':'first',\n",
    "                                           'umlid':'count',\n",
    "                                           'risk_score_past':'mean',\n",
    "                                           'risk_score_current':'mean',\n",
    "                                           'risk_score_future':'mean'})\n",
    "agg_df.rename(columns={'umlid':'mill_count'}, inplace=True)\n",
    "agg_df.head(13)"
   ]
  },
  {
   "cell_type": "code",
   "execution_count": 21,
   "metadata": {},
   "outputs": [
    {
     "data": {
      "text/plain": [
       "<AxesSubplot:xlabel='brand'>"
      ]
     },
     "execution_count": 21,
     "metadata": {},
     "output_type": "execute_result"
    },
    {
     "data": {
      "image/png": "[encoded data removed]",
      "text/plain": [
       "<Figure size 432x288 with 1 Axes>"
      ]
     },
     "metadata": {
      "needs_background": "light"
     },
     "output_type": "display_data"
    }
   ],
   "source": [
    "# Plot mill count.\n",
    "agg_df.plot('brand', 'mill_count', kind='bar')"
   ]
  },
  {
   "cell_type": "code",
   "execution_count": 22,
   "metadata": {},
   "outputs": [
    {
     "data": {
      "text/plain": [
       "<AxesSubplot:xlabel='brand'>"
      ]
     },
     "execution_count": 22,
     "metadata": {},
     "output_type": "execute_result"
    },
    {
     "data": {
      "image/png": "[encoded data removed]",
      "text/plain": [
       "<Figure size 432x288 with 1 Axes>"
      ]
     },
     "metadata": {
      "needs_background": "light"
     },
     "output_type": "display_data"
    }
   ],
   "source": [
    "# Plot brand past risk.\n",
    "agg_df.plot('brand', 'risk_score_past', kind='bar')"
   ]
  },
  {
   "cell_type": "code",
   "execution_count": 23,
   "metadata": {},
   "outputs": [
    {
     "data": {
      "text/plain": [
       "<AxesSubplot:xlabel='brand'>"
      ]
     },
     "execution_count": 23,
     "metadata": {},
     "output_type": "execute_result"
    },
    {
     "data": {
      "image/png": "[encoded data removed]",
      "text/plain": [
       "<Figure size 432x288 with 1 Axes>"
      ]
     },
     "metadata": {
      "needs_background": "light"
     },
     "output_type": "display_data"
    }
   ],
   "source": [
    "# Plot brand current risk.\n",
    "agg_df.plot('brand', 'risk_score_current', kind='bar')"
   ]
  },
  {
   "cell_type": "code",
   "execution_count": 24,
   "metadata": {
    "scrolled": true
   },
   "outputs": [
    {
     "data": {
      "text/plain": [
       "<AxesSubplot:xlabel='brand'>"
      ]
     },
     "execution_count": 24,
     "metadata": {},
     "output_type": "execute_result"
    },
    {
     "data": {
      "image/png": "[encoded data removed]",
      "text/plain": [
       "<Figure size 432x288 with 1 Axes>"
      ]
     },
     "metadata": {
      "needs_background": "light"
     },
     "output_type": "display_data"
    }
   ],
   "source": [
    "# Plot brand future risk.\n",
    "agg_df.plot('brand', 'risk_score_future', kind='bar')"
   ]
  },
  {
   "cell_type": "markdown",
   "metadata": {},
   "source": [
    "The mean score for every brand is very close to 3 - which is the average score for all mills.  This makes sense for brands like Kellogg who source from most mills, but it's also true for Ferrero which only has 31 mills, so we can infer that brands are not choosing mills based on deforestation."
   ]
  },
  {
   "cell_type": "code",
   "execution_count": null,
   "metadata": {},
   "outputs": [],
   "source": []
  }
 ],
 "metadata": {
  "kernelspec": {
   "display_name": "Python (IDI)",
   "language": "python",
   "name": "idi"
  },
  "language_info": {
   "codemirror_mode": {
    "name": "ipython",
    "version": 3
   },
   "file_extension": ".py",
   "mimetype": "text/x-python",
   "name": "python",
   "nbconvert_exporter": "python",
   "pygments_lexer": "ipython3",
   "version": "3.7.8"
  }
 },
 "nbformat": 4,
 "nbformat_minor": 4
}
